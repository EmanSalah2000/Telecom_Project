{
  "cells": [
    {
      "cell_type": "markdown",
      "metadata": {
        "id": "SUJJEyR5Ze3a"
      },
      "source": [
        "# **Imports**"
      ]
    },
    {
      "cell_type": "code",
      "execution_count": null,
      "metadata": {
        "id": "BDZ0tOOYZjBO"
      },
      "outputs": [],
      "source": [
        "import numpy as np\n",
        "import pandas as pd\n",
        "import matplotlib.pyplot as plt\n",
        "import seaborn as sns\n",
        "from scipy import stats\n",
        "from sklearn.impute import SimpleImputer\n",
        "from datetime import datetime\n",
        "import re"
      ]
    },
    {
      "cell_type": "markdown",
      "metadata": {
        "id": "ZlgWJ45nZw8Z"
      },
      "source": [
        "# **Functions**"
      ]
    },
    {
      "cell_type": "code",
      "source": [
        "#geodesic is important"
      ],
      "metadata": {
        "id": "9fUlgjJQglBP"
      },
      "execution_count": null,
      "outputs": []
    },
    {
      "cell_type": "code",
      "execution_count": null,
      "metadata": {
        "id": "fc3QnlrvZ1D9"
      },
      "outputs": [],
      "source": [
        "def process(data):\n",
        "  data=data[data['Timestamp'].str.len()>10]\n",
        "  \n",
        "\n",
        "  data['Timestamp']=pd.to_datetime(data['Timestamp'], format='%Y-%m-%d %H:%M:%S' ,utc=True)\n",
        "\n",
        "  data['day'] = data['Timestamp'].dt.day\n",
        "  data['hour'] = data['Timestamp'].dt.hour\n",
        "  # data['minute'] = data['Timestamp'].dt.minute\n",
        "\n",
        "  data=data[data.RadioConnectionType =='Mobile']\n",
        "  data=data[data.RadioMobileDataEnabled =='Enabled']\n",
        "  data=data[data.RadioNetworkGeneration =='4G']\n",
        "\n",
        "  \n",
        "  data=data.drop(['Country'], axis=1)\n",
        "  data=data.drop(['RadioConnectionType'], axis=1)\n",
        "  data=data.drop(['RadioMobileDataEnabled'], axis=1)\n",
        "  data=data.drop(['Timestamp'], axis=1)\n",
        "  data=data.drop(['RadioNetworkGeneration'], axis=1)\n",
        "\n",
        "  return data\n",
        "\n",
        "\n",
        "\n",
        "\n",
        "def process_rsrp(data):\n",
        "  data=data[(data['RSRP']  <=-40) & (data['RSRP'] >=-140)] \n",
        "  data['DeviceManufacturer']=data['DeviceManufacturer'].str.upper()\n",
        "  data['DeviceName']=data['DeviceName'].str.upper()\n",
        "\n",
        "  return data\n",
        "\n",
        "\n",
        "\n",
        "\n",
        "def treatoutliers(df=None, columns=None, factor=1.5, method='IQR', treatment='cap'):\n",
        "\n",
        "    for column in columns:\n",
        "        if method == 'STD':\n",
        "            permissable_std = factor * df[column].std()\n",
        "            col_mean = df[column].mean()\n",
        "            floor, ceil = col_mean - permissable_std, col_mean + permissable_std\n",
        "        elif method == 'IQR':\n",
        "            Q1 = df[column].quantile(0.25)\n",
        "            Q3 = df[column].quantile(0.75)\n",
        "            IQR = Q3 - Q1\n",
        "            floor, ceil = Q1 - factor * IQR, Q3 + factor * IQR\n",
        "#         print(floor, ceil)\n",
        "        if treatment == 'remove':\n",
        "            print(treatment, column)\n",
        "            df = df[(df[column] >= floor) & (df[column] <= ceil)]\n",
        "            # link for   https://www.geeksforgeeks.org/numpy-clip-in-python/\n",
        "            # clip to make all the data between the q1 and q3 and not make the data in outliers \n",
        "        elif treatment == 'cap':\n",
        "            print(treatment, column)\n",
        "            df[column] = df[column].clip(floor, ceil)\n",
        "\n",
        "    return df\n",
        "def treat_missing(data,cat_col ,num_col):#'most_frequent'\n",
        "  imp_mean = SimpleImputer(missing_values=np.nan, strategy='most_frequent')\n",
        "  imputer = imp_mean.fit(data[cat_col])\n",
        "  data[cat_col]= imputer.transform(data[cat_col])\n",
        "\n",
        "  imp_mean = SimpleImputer(missing_values=np.nan, strategy='mean')\n",
        "  imputer = imp_mean.fit(data[num_col])\n",
        "  data[num_col]= imputer.transform(data[num_col])\n",
        "\n",
        "  data = pd.concat([data[cat_col], data[num_col]],axis=1)\n",
        "  return data\n"
      ]
    },
    {
      "cell_type": "markdown",
      "metadata": {
        "id": "mVENROkeZrOH"
      },
      "source": [
        "# **Read Data**"
      ]
    },
    {
      "cell_type": "code",
      "execution_count": null,
      "metadata": {
        "id": "ihdN02hUZ78J",
        "colab": {
          "base_uri": "https://localhost:8080/"
        },
        "outputId": "973564b3-cc4e-4a31-b385-34bcda125e4b"
      },
      "outputs": [
        {
          "output_type": "stream",
          "name": "stdout",
          "text": [
            "Drive already mounted at /content/drive; to attempt to forcibly remount, call drive.mount(\"/content/drive\", force_remount=True).\n"
          ]
        }
      ],
      "source": [
        "from google.colab import drive\n",
        "drive.mount('/content/drive')"
      ]
    },
    {
      "cell_type": "code",
      "execution_count": null,
      "metadata": {
        "id": "u70gQDwcZuUE"
      },
      "outputs": [],
      "source": [
        "data = pd.read_excel('/content/drive/MyDrive/Task/TrafficVolume.xlsx')\n",
        "rsrp = pd.read_csv('/content/drive/MyDrive/Task/RSRP.csv')"
      ]
    },
    {
      "cell_type": "code",
      "execution_count": null,
      "metadata": {
        "id": "FVEfB31dPbgT"
      },
      "outputs": [],
      "source": [
        "rsrp=rsrp.sample(900000)"
      ]
    },
    {
      "cell_type": "markdown",
      "metadata": {
        "id": "lI9zkNzOaF3e"
      },
      "source": [
        "## **process in data and time**"
      ]
    },
    {
      "cell_type": "code",
      "execution_count": null,
      "metadata": {
        "id": "g3NwOAJDZ-EX",
        "colab": {
          "base_uri": "https://localhost:8080/"
        },
        "outputId": "0035f58c-a514-42c3-ef06-043cfac48555"
      },
      "outputs": [
        {
          "output_type": "stream",
          "name": "stderr",
          "text": [
            "<ipython-input-3-e218148652e2>:5: SettingWithCopyWarning: \n",
            "A value is trying to be set on a copy of a slice from a DataFrame.\n",
            "Try using .loc[row_indexer,col_indexer] = value instead\n",
            "\n",
            "See the caveats in the documentation: https://pandas.pydata.org/pandas-docs/stable/user_guide/indexing.html#returning-a-view-versus-a-copy\n",
            "  data['Timestamp']=pd.to_datetime(data['Timestamp'], format='%Y-%m-%d %H:%M:%S' ,utc=True)\n",
            "<ipython-input-3-e218148652e2>:7: SettingWithCopyWarning: \n",
            "A value is trying to be set on a copy of a slice from a DataFrame.\n",
            "Try using .loc[row_indexer,col_indexer] = value instead\n",
            "\n",
            "See the caveats in the documentation: https://pandas.pydata.org/pandas-docs/stable/user_guide/indexing.html#returning-a-view-versus-a-copy\n",
            "  data['day'] = data['Timestamp'].dt.day\n",
            "<ipython-input-3-e218148652e2>:8: SettingWithCopyWarning: \n",
            "A value is trying to be set on a copy of a slice from a DataFrame.\n",
            "Try using .loc[row_indexer,col_indexer] = value instead\n",
            "\n",
            "See the caveats in the documentation: https://pandas.pydata.org/pandas-docs/stable/user_guide/indexing.html#returning-a-view-versus-a-copy\n",
            "  data['hour'] = data['Timestamp'].dt.hour\n",
            "<ipython-input-3-e218148652e2>:29: SettingWithCopyWarning: \n",
            "A value is trying to be set on a copy of a slice from a DataFrame.\n",
            "Try using .loc[row_indexer,col_indexer] = value instead\n",
            "\n",
            "See the caveats in the documentation: https://pandas.pydata.org/pandas-docs/stable/user_guide/indexing.html#returning-a-view-versus-a-copy\n",
            "  data['DeviceManufacturer']=data['DeviceManufacturer'].str.upper()\n",
            "<ipython-input-3-e218148652e2>:30: SettingWithCopyWarning: \n",
            "A value is trying to be set on a copy of a slice from a DataFrame.\n",
            "Try using .loc[row_indexer,col_indexer] = value instead\n",
            "\n",
            "See the caveats in the documentation: https://pandas.pydata.org/pandas-docs/stable/user_guide/indexing.html#returning-a-view-versus-a-copy\n",
            "  data['DeviceName']=data['DeviceName'].str.upper()\n"
          ]
        }
      ],
      "source": [
        "data=process(data)\n",
        "rsrp=process(rsrp)\n",
        "rsrp=process_rsrp(rsrp)"
      ]
    },
    {
      "cell_type": "code",
      "source": [
        "# rsrp['RSRP'].value_counts()\n",
        "# rsrp['RSRP'].unique()\n"
      ],
      "metadata": {
        "id": "jgtmaFasXJJb"
      },
      "execution_count": null,
      "outputs": []
    },
    {
      "cell_type": "markdown",
      "metadata": {
        "id": "_SXKg7-_TBx1"
      },
      "source": [
        "# **Missing value**"
      ]
    },
    {
      "cell_type": "code",
      "execution_count": null,
      "metadata": {
        "id": "NuYU5g0SS5yv",
        "colab": {
          "base_uri": "https://localhost:8080/"
        },
        "outputId": "c06e06fe-e901-44f6-91c2-26c17e67dbf8"
      },
      "outputs": [
        {
          "output_type": "stream",
          "name": "stdout",
          "text": [
            "[]\n",
            "[]\n"
          ]
        }
      ],
      "source": [
        "cols_with_missing = [col for col in data.columns if data[col].isnull().any()]\n",
        "\n",
        "print(cols_with_missing)\n",
        "\n",
        "                    \n",
        "\n",
        "cols_with_missing = [col for col in rsrp.columns if rsrp[col].isnull().any()]\n",
        "                     \n",
        "print(cols_with_missing)\n",
        "\n",
        "\n",
        "\n",
        "\n",
        "                \n",
        "                    "
      ]
    },
    {
      "cell_type": "markdown",
      "source": [
        "# No missing values"
      ],
      "metadata": {
        "id": "4khEH4zOZ3YP"
      }
    },
    {
      "cell_type": "markdown",
      "metadata": {
        "id": "i0RuIrp1YM2t"
      },
      "source": [
        "# **duplicate data**"
      ]
    },
    {
      "cell_type": "code",
      "execution_count": null,
      "metadata": {
        "id": "rEkzNfxJYMY6"
      },
      "outputs": [],
      "source": [
        "data=data.drop_duplicates()\n",
        "# data.shape\n",
        "# data\n",
        "\n",
        "rsrp=rsrp.drop_duplicates()\n",
        "# rsrp.shape\n",
        "# rsrp"
      ]
    },
    {
      "cell_type": "markdown",
      "metadata": {
        "id": "wgLdRxjrngR1"
      },
      "source": [
        "# **Merge data**"
      ]
    },
    {
      "cell_type": "code",
      "execution_count": null,
      "metadata": {
        "id": "8XnNjkM_ndVB",
        "colab": {
          "base_uri": "https://localhost:8080/",
          "height": 424
        },
        "outputId": "a6ff2fad-0a76-4ae8-d53f-e2739144c032"
      },
      "outputs": [
        {
          "output_type": "execute_result",
          "data": {
            "text/plain": [
              "      RadioOperatorName TrafficDirection DeviceManufacturer      DeviceName  \\\n",
              "0            Operator C           Uplink            SAMSUNG      GALAXY A50   \n",
              "1            Operator C           Uplink            SAMSUNG      GALAXY A50   \n",
              "2            Operator C           Uplink            SAMSUNG      GALAXY A50   \n",
              "3            Operator C           Uplink            SAMSUNG      GALAXY A50   \n",
              "4            Operator C           Uplink            SAMSUNG      GALAXY A50   \n",
              "...                 ...              ...                ...             ...   \n",
              "33748        Operator A           Uplink         HMD GLOBAL  NOKIA 6.1 PLUS   \n",
              "33749        Operator A           Uplink         HMD GLOBAL  NOKIA 6.1 PLUS   \n",
              "33750        Operator A         Downlink         HMD GLOBAL  NOKIA 6.1 PLUS   \n",
              "33751        Operator A         Downlink         HMD GLOBAL  NOKIA 6.1 PLUS   \n",
              "33752        Operator A         Downlink         HMD GLOBAL  NOKIA 6.1 PLUS   \n",
              "\n",
              "       LocationLatitude  LocationLongitude  TrafficVolume  day  hour   RSRP  \n",
              "0             24.828726           46.81041       0.140186  1.0  21.0  -62.0  \n",
              "1             24.828726           46.81041       0.140186  1.0  21.0  -67.0  \n",
              "2             24.828726           46.81041       0.140186  1.0  21.0  -64.0  \n",
              "3             24.828726           46.81041       0.140186  1.0  21.0  -66.0  \n",
              "4             24.828726           46.81041       0.140186  1.0  21.0  -65.0  \n",
              "...                 ...                ...            ...  ...   ...    ...  \n",
              "33748         24.671516           46.71441       1.017016  2.0  17.0  -94.0  \n",
              "33749         24.671516           46.71441       1.017016  2.0  17.0  -76.0  \n",
              "33750         24.671516           46.71441       2.526154  2.0  17.0  -94.0  \n",
              "33751         24.671516           46.71441       2.526154  2.0  17.0  -76.0  \n",
              "33752         24.596850           46.74838       1.329637  2.0  19.0 -104.0  \n",
              "\n",
              "[33753 rows x 10 columns]"
            ],
            "text/html": [
              "\n",
              "  <div id=\"df-983665ef-aefc-4340-b105-a1e85bb7221d\">\n",
              "    <div class=\"colab-df-container\">\n",
              "      <div>\n",
              "<style scoped>\n",
              "    .dataframe tbody tr th:only-of-type {\n",
              "        vertical-align: middle;\n",
              "    }\n",
              "\n",
              "    .dataframe tbody tr th {\n",
              "        vertical-align: top;\n",
              "    }\n",
              "\n",
              "    .dataframe thead th {\n",
              "        text-align: right;\n",
              "    }\n",
              "</style>\n",
              "<table border=\"1\" class=\"dataframe\">\n",
              "  <thead>\n",
              "    <tr style=\"text-align: right;\">\n",
              "      <th></th>\n",
              "      <th>RadioOperatorName</th>\n",
              "      <th>TrafficDirection</th>\n",
              "      <th>DeviceManufacturer</th>\n",
              "      <th>DeviceName</th>\n",
              "      <th>LocationLatitude</th>\n",
              "      <th>LocationLongitude</th>\n",
              "      <th>TrafficVolume</th>\n",
              "      <th>day</th>\n",
              "      <th>hour</th>\n",
              "      <th>RSRP</th>\n",
              "    </tr>\n",
              "  </thead>\n",
              "  <tbody>\n",
              "    <tr>\n",
              "      <th>0</th>\n",
              "      <td>Operator C</td>\n",
              "      <td>Uplink</td>\n",
              "      <td>SAMSUNG</td>\n",
              "      <td>GALAXY A50</td>\n",
              "      <td>24.828726</td>\n",
              "      <td>46.81041</td>\n",
              "      <td>0.140186</td>\n",
              "      <td>1.0</td>\n",
              "      <td>21.0</td>\n",
              "      <td>-62.0</td>\n",
              "    </tr>\n",
              "    <tr>\n",
              "      <th>1</th>\n",
              "      <td>Operator C</td>\n",
              "      <td>Uplink</td>\n",
              "      <td>SAMSUNG</td>\n",
              "      <td>GALAXY A50</td>\n",
              "      <td>24.828726</td>\n",
              "      <td>46.81041</td>\n",
              "      <td>0.140186</td>\n",
              "      <td>1.0</td>\n",
              "      <td>21.0</td>\n",
              "      <td>-67.0</td>\n",
              "    </tr>\n",
              "    <tr>\n",
              "      <th>2</th>\n",
              "      <td>Operator C</td>\n",
              "      <td>Uplink</td>\n",
              "      <td>SAMSUNG</td>\n",
              "      <td>GALAXY A50</td>\n",
              "      <td>24.828726</td>\n",
              "      <td>46.81041</td>\n",
              "      <td>0.140186</td>\n",
              "      <td>1.0</td>\n",
              "      <td>21.0</td>\n",
              "      <td>-64.0</td>\n",
              "    </tr>\n",
              "    <tr>\n",
              "      <th>3</th>\n",
              "      <td>Operator C</td>\n",
              "      <td>Uplink</td>\n",
              "      <td>SAMSUNG</td>\n",
              "      <td>GALAXY A50</td>\n",
              "      <td>24.828726</td>\n",
              "      <td>46.81041</td>\n",
              "      <td>0.140186</td>\n",
              "      <td>1.0</td>\n",
              "      <td>21.0</td>\n",
              "      <td>-66.0</td>\n",
              "    </tr>\n",
              "    <tr>\n",
              "      <th>4</th>\n",
              "      <td>Operator C</td>\n",
              "      <td>Uplink</td>\n",
              "      <td>SAMSUNG</td>\n",
              "      <td>GALAXY A50</td>\n",
              "      <td>24.828726</td>\n",
              "      <td>46.81041</td>\n",
              "      <td>0.140186</td>\n",
              "      <td>1.0</td>\n",
              "      <td>21.0</td>\n",
              "      <td>-65.0</td>\n",
              "    </tr>\n",
              "    <tr>\n",
              "      <th>...</th>\n",
              "      <td>...</td>\n",
              "      <td>...</td>\n",
              "      <td>...</td>\n",
              "      <td>...</td>\n",
              "      <td>...</td>\n",
              "      <td>...</td>\n",
              "      <td>...</td>\n",
              "      <td>...</td>\n",
              "      <td>...</td>\n",
              "      <td>...</td>\n",
              "    </tr>\n",
              "    <tr>\n",
              "      <th>33748</th>\n",
              "      <td>Operator A</td>\n",
              "      <td>Uplink</td>\n",
              "      <td>HMD GLOBAL</td>\n",
              "      <td>NOKIA 6.1 PLUS</td>\n",
              "      <td>24.671516</td>\n",
              "      <td>46.71441</td>\n",
              "      <td>1.017016</td>\n",
              "      <td>2.0</td>\n",
              "      <td>17.0</td>\n",
              "      <td>-94.0</td>\n",
              "    </tr>\n",
              "    <tr>\n",
              "      <th>33749</th>\n",
              "      <td>Operator A</td>\n",
              "      <td>Uplink</td>\n",
              "      <td>HMD GLOBAL</td>\n",
              "      <td>NOKIA 6.1 PLUS</td>\n",
              "      <td>24.671516</td>\n",
              "      <td>46.71441</td>\n",
              "      <td>1.017016</td>\n",
              "      <td>2.0</td>\n",
              "      <td>17.0</td>\n",
              "      <td>-76.0</td>\n",
              "    </tr>\n",
              "    <tr>\n",
              "      <th>33750</th>\n",
              "      <td>Operator A</td>\n",
              "      <td>Downlink</td>\n",
              "      <td>HMD GLOBAL</td>\n",
              "      <td>NOKIA 6.1 PLUS</td>\n",
              "      <td>24.671516</td>\n",
              "      <td>46.71441</td>\n",
              "      <td>2.526154</td>\n",
              "      <td>2.0</td>\n",
              "      <td>17.0</td>\n",
              "      <td>-94.0</td>\n",
              "    </tr>\n",
              "    <tr>\n",
              "      <th>33751</th>\n",
              "      <td>Operator A</td>\n",
              "      <td>Downlink</td>\n",
              "      <td>HMD GLOBAL</td>\n",
              "      <td>NOKIA 6.1 PLUS</td>\n",
              "      <td>24.671516</td>\n",
              "      <td>46.71441</td>\n",
              "      <td>2.526154</td>\n",
              "      <td>2.0</td>\n",
              "      <td>17.0</td>\n",
              "      <td>-76.0</td>\n",
              "    </tr>\n",
              "    <tr>\n",
              "      <th>33752</th>\n",
              "      <td>Operator A</td>\n",
              "      <td>Downlink</td>\n",
              "      <td>HMD GLOBAL</td>\n",
              "      <td>NOKIA 6.1 PLUS</td>\n",
              "      <td>24.596850</td>\n",
              "      <td>46.74838</td>\n",
              "      <td>1.329637</td>\n",
              "      <td>2.0</td>\n",
              "      <td>19.0</td>\n",
              "      <td>-104.0</td>\n",
              "    </tr>\n",
              "  </tbody>\n",
              "</table>\n",
              "<p>33753 rows × 10 columns</p>\n",
              "</div>\n",
              "      <button class=\"colab-df-convert\" onclick=\"convertToInteractive('df-983665ef-aefc-4340-b105-a1e85bb7221d')\"\n",
              "              title=\"Convert this dataframe to an interactive table.\"\n",
              "              style=\"display:none;\">\n",
              "        \n",
              "  <svg xmlns=\"http://www.w3.org/2000/svg\" height=\"24px\"viewBox=\"0 0 24 24\"\n",
              "       width=\"24px\">\n",
              "    <path d=\"M0 0h24v24H0V0z\" fill=\"none\"/>\n",
              "    <path d=\"M18.56 5.44l.94 2.06.94-2.06 2.06-.94-2.06-.94-.94-2.06-.94 2.06-2.06.94zm-11 1L8.5 8.5l.94-2.06 2.06-.94-2.06-.94L8.5 2.5l-.94 2.06-2.06.94zm10 10l.94 2.06.94-2.06 2.06-.94-2.06-.94-.94-2.06-.94 2.06-2.06.94z\"/><path d=\"M17.41 7.96l-1.37-1.37c-.4-.4-.92-.59-1.43-.59-.52 0-1.04.2-1.43.59L10.3 9.45l-7.72 7.72c-.78.78-.78 2.05 0 2.83L4 21.41c.39.39.9.59 1.41.59.51 0 1.02-.2 1.41-.59l7.78-7.78 2.81-2.81c.8-.78.8-2.07 0-2.86zM5.41 20L4 18.59l7.72-7.72 1.47 1.35L5.41 20z\"/>\n",
              "  </svg>\n",
              "      </button>\n",
              "      \n",
              "  <style>\n",
              "    .colab-df-container {\n",
              "      display:flex;\n",
              "      flex-wrap:wrap;\n",
              "      gap: 12px;\n",
              "    }\n",
              "\n",
              "    .colab-df-convert {\n",
              "      background-color: #E8F0FE;\n",
              "      border: none;\n",
              "      border-radius: 50%;\n",
              "      cursor: pointer;\n",
              "      display: none;\n",
              "      fill: #1967D2;\n",
              "      height: 32px;\n",
              "      padding: 0 0 0 0;\n",
              "      width: 32px;\n",
              "    }\n",
              "\n",
              "    .colab-df-convert:hover {\n",
              "      background-color: #E2EBFA;\n",
              "      box-shadow: 0px 1px 2px rgba(60, 64, 67, 0.3), 0px 1px 3px 1px rgba(60, 64, 67, 0.15);\n",
              "      fill: #174EA6;\n",
              "    }\n",
              "\n",
              "    [theme=dark] .colab-df-convert {\n",
              "      background-color: #3B4455;\n",
              "      fill: #D2E3FC;\n",
              "    }\n",
              "\n",
              "    [theme=dark] .colab-df-convert:hover {\n",
              "      background-color: #434B5C;\n",
              "      box-shadow: 0px 1px 3px 1px rgba(0, 0, 0, 0.15);\n",
              "      filter: drop-shadow(0px 1px 2px rgba(0, 0, 0, 0.3));\n",
              "      fill: #FFFFFF;\n",
              "    }\n",
              "  </style>\n",
              "\n",
              "      <script>\n",
              "        const buttonEl =\n",
              "          document.querySelector('#df-983665ef-aefc-4340-b105-a1e85bb7221d button.colab-df-convert');\n",
              "        buttonEl.style.display =\n",
              "          google.colab.kernel.accessAllowed ? 'block' : 'none';\n",
              "\n",
              "        async function convertToInteractive(key) {\n",
              "          const element = document.querySelector('#df-983665ef-aefc-4340-b105-a1e85bb7221d');\n",
              "          const dataTable =\n",
              "            await google.colab.kernel.invokeFunction('convertToInteractive',\n",
              "                                                     [key], {});\n",
              "          if (!dataTable) return;\n",
              "\n",
              "          const docLinkHtml = 'Like what you see? Visit the ' +\n",
              "            '<a target=\"_blank\" href=https://colab.research.google.com/notebooks/data_table.ipynb>data table notebook</a>'\n",
              "            + ' to learn more about interactive tables.';\n",
              "          element.innerHTML = '';\n",
              "          dataTable['output_type'] = 'display_data';\n",
              "          await google.colab.output.renderOutput(dataTable, element);\n",
              "          const docLink = document.createElement('div');\n",
              "          docLink.innerHTML = docLinkHtml;\n",
              "          element.appendChild(docLink);\n",
              "        }\n",
              "      </script>\n",
              "    </div>\n",
              "  </div>\n",
              "  "
            ]
          },
          "metadata": {},
          "execution_count": 11
        }
      ],
      "source": [
        "merge_data= pd.merge(data, rsrp,on=[\"day\",\"hour\",\"LocationLatitude\",\"LocationLongitude\",\"RadioOperatorName\"])\n",
        "\n",
        "# merge_data=data.combine_first(rsrp)\n",
        "\n",
        "cat_coumns = [cname for cname in merge_data.columns if merge_data[cname].dtype == \"object\"]\n",
        "                 \n",
        "num_columns  = [cname for cname in merge_data.columns if \n",
        "               merge_data[cname].dtype in ['int64', 'float64']]\n",
        "\n",
        "                     \n",
        "merge_data=treat_missing(merge_data,cat_coumns,num_columns)\n",
        "merge_data.shape\n",
        "merge_data"
      ]
    },
    {
      "cell_type": "code",
      "execution_count": null,
      "metadata": {
        "id": "7hoFaUcSpEpk"
      },
      "outputs": [],
      "source": [
        "merge_data.to_csv(\"data.csv\")"
      ]
    },
    {
      "cell_type": "code",
      "execution_count": null,
      "metadata": {
        "id": "S-3MIt84EmKS"
      },
      "outputs": [],
      "source": [
        "rsrp.to_csv(\"rsrp.csv\")\n",
        "data.to_csv(\"traffic_vplume.csv\")\n"
      ]
    },
    {
      "cell_type": "code",
      "execution_count": null,
      "metadata": {
        "id": "wyaBzRUMm-HN",
        "colab": {
          "base_uri": "https://localhost:8080/"
        },
        "outputId": "ba04b3a4-68c8-4e1b-d1b1-5087aeb07dfe"
      },
      "outputs": [
        {
          "output_type": "execute_result",
          "data": {
            "text/plain": [
              "(102529, 7)"
            ]
          },
          "metadata": {},
          "execution_count": 14
        }
      ],
      "source": [
        "data.shape"
      ]
    },
    {
      "cell_type": "code",
      "execution_count": null,
      "metadata": {
        "id": "dBRtwbktnAEL",
        "colab": {
          "base_uri": "https://localhost:8080/"
        },
        "outputId": "47f2300b-202f-4e68-aa71-8210ede8f88e"
      },
      "outputs": [
        {
          "output_type": "execute_result",
          "data": {
            "text/plain": [
              "(523390, 8)"
            ]
          },
          "metadata": {},
          "execution_count": 15
        }
      ],
      "source": [
        "rsrp.shape"
      ]
    },
    {
      "cell_type": "code",
      "execution_count": null,
      "metadata": {
        "id": "Rc9AW-njnCTi",
        "colab": {
          "base_uri": "https://localhost:8080/"
        },
        "outputId": "3b275e85-a010-4369-e2fd-e90d51748007"
      },
      "outputs": [
        {
          "output_type": "execute_result",
          "data": {
            "text/plain": [
              "(33753, 10)"
            ]
          },
          "metadata": {},
          "execution_count": 16
        }
      ],
      "source": [
        "merge_data.shape"
      ]
    }
  ],
  "metadata": {
    "colab": {
      "provenance": [],
      "collapsed_sections": [
        "SUJJEyR5Ze3a",
        "ZlgWJ45nZw8Z",
        "GlqTS0Ex2AHg"
      ],
      "gpuType": "T4"
    },
    "kernelspec": {
      "display_name": "Python 3",
      "name": "python3"
    },
    "language_info": {
      "name": "python"
    },
    "accelerator": "GPU"
  },
  "nbformat": 4,
  "nbformat_minor": 0
}